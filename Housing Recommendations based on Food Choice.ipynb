{
    "nbformat_minor": 1, 
    "cells": [
        {
            "source": "# INTRODUCTION", 
            "cell_type": "markdown", 
            "metadata": {
                "collapsed": true
            }
        }, 
        {
            "source": "Bangalore is the capital city of south Indian state of Karnataka. It has a population of over ten million, making it as an megacity and the third most populous city in India. Also known as the Silicon Valley of India, Bangalore has an estimated population of 12.34 million in the metro area.It is now the 24th most populous city in the world and the fastest-growing Indian metropolis.\nSince,Bangalore is developing at good rate,the employment opportunities are also developing and this resulted in more inflow of people into city,which also led to increase in traffic and also the pollution.\nSo people usually prefer housing near to their worklocation.but the problem with this is the availability of the food of their choice.In our project we will be focusing on recommending the housing areas based on the choice of their food\n", 
            "cell_type": "markdown", 
            "metadata": {}
        }, 
        {
            "source": "# DATA", 
            "cell_type": "markdown", 
            "metadata": {}
        }, 
        {
            "source": "In this project we will use the Bangalore Neighbourhood data to get the locations of Neighbourhoods and also Foursquare location data to get the data related to food\nBangalore Neighbourhood data -> The data is subset of All India Pincode directory data[Available in https://data.gov.in],which has the pincode of every location in India along with the latitude and longitude values.Here in this project it is preprocessed to have only Borougs[Bangalore South,Bangalore West and Bangalore East] and corresponding Neighbourhoods along with Latitude-Longitudes\nThe CSV file can be separately downloaded from here:\n    \nhttps://github.com/anirudhupadya/Housing-Recommendation-in-Bangalore-based-on-Food-Choice/blob/master/Bangalore_Neighbourhoods.csv\n\nSay for example,I am interested in Italian food,so we will use the Foursquare api to select all the venues having Italian food and map it onto Bangalore Neighbourhood's..\nThen we can form the cluster and recommend the housing Area[Neighbourhood] where Italian foods are available.", 
            "cell_type": "markdown", 
            "metadata": {}
        }, 
        {
            "execution_count": null, 
            "cell_type": "code", 
            "metadata": {}, 
            "outputs": [], 
            "source": ""
        }
    ], 
    "metadata": {
        "kernelspec": {
            "display_name": "Python 3.5", 
            "name": "python3", 
            "language": "python"
        }, 
        "language_info": {
            "mimetype": "text/x-python", 
            "nbconvert_exporter": "python", 
            "version": "3.5.5", 
            "name": "python", 
            "file_extension": ".py", 
            "pygments_lexer": "ipython3", 
            "codemirror_mode": {
                "version": 3, 
                "name": "ipython"
            }
        }
    }, 
    "nbformat": 4
}